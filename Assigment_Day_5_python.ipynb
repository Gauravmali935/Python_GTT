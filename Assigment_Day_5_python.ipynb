{
 "cells": [
  {
   "cell_type": "code",
   "execution_count": 9,
   "metadata": {},
   "outputs": [
    {
     "name": "stdout",
     "output_type": "stream",
     "text": [
      "python  python  python  python  python  python \n",
      "python\tpython\tpython\tpython\tpython\tpython\n",
      "python\t\t\t\t\tpython\n",
      "python\t\t\t\t\tpython\n",
      "python\t\t\t\t\tpython\n",
      "python\t\t\t\t\tpython\n",
      "python\t\t\t\t\tpython\n",
      "python\t\t\t\t\tpython\n",
      "python\t\t\t\t\tpython\n",
      "python\tpython\tpython\tpython\tpython\tpython\n",
      "python\tpython\tpython\tpython\tpython\tpython\n"
     ]
    }
   ],
   "source": [
    "#create a square using \\n and \\t\n",
    "print(\"python  python  python  python  python  python \\npython\\tpython\\tpython\\tpython\\tpython\\tpython\\npython\\t\\t\\t\\t\\tpython\\npython\\t\\t\\t\\t\\tpython\\npython\\t\\t\\t\\t\\tpython\\npython\\t\\t\\t\\t\\tpython\\npython\\t\\t\\t\\t\\tpython\\npython\\t\\t\\t\\t\\tpython\\npython\\t\\t\\t\\t\\tpython\\npython\\tpython\\tpython\\tpython\\tpython\\tpython\\npython\\tpython\\tpython\\tpython\\tpython\\tpython\")"
   ]
  },
  {
   "cell_type": "code",
   "execution_count": 24,
   "metadata": {},
   "outputs": [
    {
     "name": "stdout",
     "output_type": "stream",
     "text": [
      "ENTER THE FIRST NUMBER-: 5\n",
      "ENTER THE SECOND NUMBER-: 9\n",
      "subtraction of 5 and 9 is-> -4.0\n"
     ]
    }
   ],
   "source": [
    "#subtraction of two numbers (float)\n",
    "a = input(\"ENTER THE FIRST NUMBER-: \")\n",
    "b = input(\"ENTER THE SECOND NUMBER-: \")\n",
    "total = float(a) - float(b)\n",
    "print(\"subtraction of {0} and {1} is-> {2}\".format(a,b,total))"
   ]
  },
  {
   "cell_type": "code",
   "execution_count": 25,
   "metadata": {},
   "outputs": [
    {
     "name": "stdout",
     "output_type": "stream",
     "text": [
      "ENTER THE FIRST NUMBER-: 5\n",
      "ENTER THE SECOND NUMBER-: 6\n",
      "subtraction of 5 and 6 is-> -1\n"
     ]
    }
   ],
   "source": [
    "#subtraction of two numbers (integer)\n",
    "a = input(\"ENTER THE FIRST NUMBER-: \")\n",
    "b = input(\"ENTER THE SECOND NUMBER-: \")\n",
    "total = int(a) - int(b)\n",
    "print(\"subtraction of {0} and {1} is-> {2}\".format(a,b,total))"
   ]
  },
  {
   "cell_type": "code",
   "execution_count": 27,
   "metadata": {},
   "outputs": [
    {
     "name": "stdout",
     "output_type": "stream",
     "text": [
      "ENTER THE FIRST NUMBER-: 2\n",
      "ENTER THE SECOND NUMBER-: 5\n",
      "subtraction of 2 and 5 is-> 0.4\n"
     ]
    }
   ],
   "source": [
    "#Division of two numbers (integers)\n",
    "a = input(\"ENTER THE FIRST NUMBER-: \")\n",
    "b = input(\"ENTER THE SECOND NUMBER-: \")\n",
    "total = int(a) / int(b)\n",
    "print(\"subtraction of {0} and {1} is-> {2}\".format(a,b,total))"
   ]
  },
  {
   "cell_type": "code",
   "execution_count": 28,
   "metadata": {},
   "outputs": [
    {
     "name": "stdout",
     "output_type": "stream",
     "text": [
      "ENTER THE FIRST NUMBER-: 5\n",
      "ENTER THE SECOND NUMBER-: 8\n",
      "subtraction of 5 and 8 is-> 0.625\n"
     ]
    }
   ],
   "source": [
    "#Division of two numbers{float}\n",
    "a = input(\"ENTER THE my NUMBER-: \")\n",
    "b = input(\"ENTER THE SECOND NUMBER-: \")\n",
    "total = float(a) / float(b)\n",
    "print(\"subtraction of {0} and {1} is-> {2}\".format(a,b,total))"
   ]
  },
  {
   "cell_type": "code",
   "execution_count": 29,
   "metadata": {},
   "outputs": [
    {
     "name": "stdout",
     "output_type": "stream",
     "text": [
      "ENTER THE FIRST NUMBER-: 5\n",
      "ENTER THE SECOND NUMBER-: 9\n",
      "subtraction of 5 and 9 is-> 45\n"
     ]
    }
   ],
   "source": [
    "#multiplaction of two numbers (integers)\n",
    "a = input(\"ENTER THE FIRST NUMBER-: \")\n",
    "b = input(\"ENTER THE SECOND NUMBER-: \")\n",
    "total = int(a) * int(b)\n",
    "print(\"subtraction of {0} and {1} is-> {2}\".format(a,b,total))"
   ]
  },
  {
   "cell_type": "code",
   "execution_count": 30,
   "metadata": {},
   "outputs": [
    {
     "name": "stdout",
     "output_type": "stream",
     "text": [
      "ENTER THE FIRST NUMBER-: 5\n",
      "ENTER THE SECOND NUMBER-: 8\n",
      "subtraction of 5 and 8 is-> 40.0\n"
     ]
    }
   ],
   "source": [
    "#Multiplaction of two Numbers (Float)\n",
    "#subtraction of two numbers (float)\n",
    "a = input(\"ENTER THE FIRST NUMBER-: \")\n",
    "b = input(\"ENTER THE SECOND NUMBER-: \")\n",
    "total = float(a) * float(b)\n",
    "print(\"subtraction of {0} and {1} is-> {2}\".format(a,b,total))"
   ]
  },
  {
   "cell_type": "code",
   "execution_count": 2,
   "metadata": {},
   "outputs": [
    {
     "name": "stdout",
     "output_type": "stream",
     "text": [
      "Enter the First Number: 10\n",
      "Enter the Second Number: 20\n",
      "the largest number form 10 and 20 is 20\n",
      "the smallest number form 10 and 20 is 10\n"
     ]
    }
   ],
   "source": [
    "a = input(\"Enter the First Number: \")\n",
    "b = input(\"Enter the Second Number: \")\n",
    "largest = max(a,b)\n",
    "smallest = min(a,b)\n",
    "print(\"the largest number form {0} and {1} is {2}\".format(a,b,largest))\n",
    "print(\"the smallest number form {0} and {1} is {2}\".format(a,b,smallest))"
   ]
  },
  {
   "cell_type": "code",
   "execution_count": 4,
   "metadata": {},
   "outputs": [
    {
     "name": "stdout",
     "output_type": "stream",
     "text": [
      "Enter the First Number: 50\n",
      "Enter the Second Number: 10\n",
      "Enter the Third Number: 20\n",
      "the largest number form 50 10 and 20 is 50\n",
      "the smallest number form 50 10 and 20 is 10\n"
     ]
    }
   ],
   "source": [
    "a = input(\"Enter the First Number: \")\n",
    "b = input(\"Enter the Second Number: \")\n",
    "c = input(\"Enter the Third Number: \")\n",
    "largest = max(a,b,c)\n",
    "smallest = min(a,b,c)\n",
    "print(\"the largest number form {0} {1} and {2} is {3}\".format(a,b,c,largest))\n",
    "print(\"the smallest number form {0} {1} and {2} is {3}\".format(a,b,c,smallest))"
   ]
  },
  {
   "cell_type": "code",
   "execution_count": 1,
   "metadata": {},
   "outputs": [
    {
     "name": "stdout",
     "output_type": "stream",
     "text": [
      "Enter the First number-: 10\n",
      "Enter the Second number-: 20\n",
      "Before Swap-: 10 20 \n",
      "After Swap-: 20 10 \n"
     ]
    }
   ],
   "source": [
    "# Swaping The numbers\n",
    "a = input(\"Enter the First number-: \")\n",
    "b = input(\"Enter the Second number-: \")\n",
    "print(\"Before Swap-: {0} {1} \".format(a,b))\n",
    "temp=a\n",
    "a=b\n",
    "b=temp\n",
    "print(\"After Swap-: {0} {1} \".format(a,b))"
   ]
  },
  {
   "cell_type": "code",
   "execution_count": null,
   "metadata": {},
   "outputs": [],
   "source": []
  }
 ],
 "metadata": {
  "kernelspec": {
   "display_name": "Python 3",
   "language": "python",
   "name": "python3"
  },
  "language_info": {
   "codemirror_mode": {
    "name": "ipython",
    "version": 3
   },
   "file_extension": ".py",
   "mimetype": "text/x-python",
   "name": "python",
   "nbconvert_exporter": "python",
   "pygments_lexer": "ipython3",
   "version": "3.8.5"
  }
 },
 "nbformat": 4,
 "nbformat_minor": 4
}
